{
  "cells": [
    {
      "cell_type": "code",
      "execution_count": 17,
      "id": "Z6fjuuqZvyHj",
      "metadata": {
        "colab": {
          "base_uri": "https://localhost:8080/"
        },
        "id": "Z6fjuuqZvyHj",
        "outputId": "59572b5a-d396-4240-ef45-47694e53ad70"
      },
      "outputs": [
        {
          "name": "stderr",
          "output_type": "stream",
          "text": [
            "huggingface/tokenizers: The current process just got forked, after parallelism has already been used. Disabling parallelism to avoid deadlocks...\n",
            "To disable this warning, you can either:\n",
            "\t- Avoid using `tokenizers` before the fork if possible\n",
            "\t- Explicitly set the environment variable TOKENIZERS_PARALLELISM=(true | false)\n",
            "huggingface/tokenizers: The current process just got forked, after parallelism has already been used. Disabling parallelism to avoid deadlocks...\n",
            "To disable this warning, you can either:\n",
            "\t- Avoid using `tokenizers` before the fork if possible\n",
            "\t- Explicitly set the environment variable TOKENIZERS_PARALLELISM=(true | false)\n",
            "huggingface/tokenizers: The current process just got forked, after parallelism has already been used. Disabling parallelism to avoid deadlocks...\n",
            "To disable this warning, you can either:\n",
            "\t- Avoid using `tokenizers` before the fork if possible\n",
            "\t- Explicitly set the environment variable TOKENIZERS_PARALLELISM=(true | false)\n",
            "huggingface/tokenizers: The current process just got forked, after parallelism has already been used. Disabling parallelism to avoid deadlocks...\n",
            "To disable this warning, you can either:\n",
            "\t- Avoid using `tokenizers` before the fork if possible\n",
            "\t- Explicitly set the environment variable TOKENIZERS_PARALLELISM=(true | false)\n"
          ]
        },
        {
          "name": "stdout",
          "output_type": "stream",
          "text": [
            "\u001b[31mERROR: pip's dependency resolver does not currently take into account all the packages that are installed. This behaviour is the source of the following dependency conflicts.\n",
            "tensorflow-macos 2.16.2 requires tensorflow==2.16.2; platform_system == \"Darwin\" and platform_machine == \"arm64\", but you have tensorflow 2.19.0 which is incompatible.\u001b[0m\u001b[31m\n",
            "\u001b[0m"
          ]
        },
        {
          "name": "stderr",
          "output_type": "stream",
          "text": [
            "huggingface/tokenizers: The current process just got forked, after parallelism has already been used. Disabling parallelism to avoid deadlocks...\n",
            "To disable this warning, you can either:\n",
            "\t- Avoid using `tokenizers` before the fork if possible\n",
            "\t- Explicitly set the environment variable TOKENIZERS_PARALLELISM=(true | false)\n"
          ]
        },
        {
          "name": "stdout",
          "output_type": "stream",
          "text": [
            "\u001b[31mERROR: pip's dependency resolver does not currently take into account all the packages that are installed. This behaviour is the source of the following dependency conflicts.\n",
            "tensorflow 2.19.0 requires keras>=3.5.0, but you have keras 2.11.0 which is incompatible.\n",
            "tensorflow-macos 2.16.2 requires tensorflow==2.16.2; platform_system == \"Darwin\" and platform_machine == \"arm64\", but you have tensorflow 2.19.0 which is incompatible.\u001b[0m\u001b[31m\n",
            "\u001b[0m"
          ]
        },
        {
          "name": "stderr",
          "output_type": "stream",
          "text": [
            "huggingface/tokenizers: The current process just got forked, after parallelism has already been used. Disabling parallelism to avoid deadlocks...\n",
            "To disable this warning, you can either:\n",
            "\t- Avoid using `tokenizers` before the fork if possible\n",
            "\t- Explicitly set the environment variable TOKENIZERS_PARALLELISM=(true | false)\n"
          ]
        },
        {
          "name": "stdout",
          "output_type": "stream",
          "text": [
            "\u001b[31mERROR: Could not find a version that satisfies the requirement tensorflow==2.11.0 (from versions: 2.16.0rc0, 2.16.1, 2.16.2, 2.17.0rc0, 2.17.0rc1, 2.17.0, 2.17.1, 2.18.0rc0, 2.18.0rc1, 2.18.0rc2, 2.18.0, 2.18.1, 2.19.0rc0, 2.19.0, 2.20.0rc0)\u001b[0m\u001b[31m\n",
            "\u001b[0m\u001b[31mERROR: No matching distribution found for tensorflow==2.11.0\u001b[0m\u001b[31m\n",
            "\u001b[0m"
          ]
        },
        {
          "name": "stderr",
          "output_type": "stream",
          "text": [
            "huggingface/tokenizers: The current process just got forked, after parallelism has already been used. Disabling parallelism to avoid deadlocks...\n",
            "To disable this warning, you can either:\n",
            "\t- Avoid using `tokenizers` before the fork if possible\n",
            "\t- Explicitly set the environment variable TOKENIZERS_PARALLELISM=(true | false)\n"
          ]
        },
        {
          "name": "stdout",
          "output_type": "stream",
          "text": [
            "Requirement already satisfied: numpy in /Library/Frameworks/Python.framework/Versions/3.10/lib/python3.10/site-packages (1.26.4)\n",
            "Collecting numpy\n",
            "  Using cached numpy-2.2.6-cp310-cp310-macosx_14_0_arm64.whl.metadata (62 kB)\n",
            "Using cached numpy-2.2.6-cp310-cp310-macosx_14_0_arm64.whl (5.3 MB)\n",
            "Installing collected packages: numpy\n",
            "  Attempting uninstall: numpy\n",
            "    Found existing installation: numpy 1.26.4\n",
            "    Uninstalling numpy-1.26.4:\n",
            "      Successfully uninstalled numpy-1.26.4\n",
            "\u001b[31mERROR: pip's dependency resolver does not currently take into account all the packages that are installed. This behaviour is the source of the following dependency conflicts.\n",
            "gradio 3.45.2 requires numpy~=1.0, but you have numpy 2.2.6 which is incompatible.\n",
            "gradio 3.45.2 requires websockets<12.0,>=10.0, but you have websockets 15.0.1 which is incompatible.\n",
            "scipy 1.10.1 requires numpy<1.27.0,>=1.19.5, but you have numpy 2.2.6 which is incompatible.\n",
            "tensorflow 2.19.0 requires keras>=3.5.0, but you have keras 2.12.0 which is incompatible.\n",
            "tensorflow 2.19.0 requires numpy<2.2.0,>=1.26.0, but you have numpy 2.2.6 which is incompatible.\n",
            "tensorflow 2.19.0 requires tensorboard~=2.19.0, but you have tensorboard 2.12.3 which is incompatible.\n",
            "tensorflow-macos 2.12.0 requires numpy<1.24,>=1.22, but you have numpy 2.2.6 which is incompatible.\u001b[0m\u001b[31m\n",
            "\u001b[0mSuccessfully installed numpy-2.2.6\n",
            "Note: you may need to restart the kernel to use updated packages.\n"
          ]
        },
        {
          "name": "stderr",
          "output_type": "stream",
          "text": [
            "huggingface/tokenizers: The current process just got forked, after parallelism has already been used. Disabling parallelism to avoid deadlocks...\n",
            "To disable this warning, you can either:\n",
            "\t- Avoid using `tokenizers` before the fork if possible\n",
            "\t- Explicitly set the environment variable TOKENIZERS_PARALLELISM=(true | false)\n"
          ]
        },
        {
          "name": "stdout",
          "output_type": "stream",
          "text": [
            "Requirement already satisfied: shap in /Library/Frameworks/Python.framework/Versions/3.10/lib/python3.10/site-packages (0.48.0)\n",
            "Requirement already satisfied: numpy in /Library/Frameworks/Python.framework/Versions/3.10/lib/python3.10/site-packages (from shap) (2.2.6)\n",
            "Requirement already satisfied: scipy in /Library/Frameworks/Python.framework/Versions/3.10/lib/python3.10/site-packages (from shap) (1.10.1)\n",
            "Requirement already satisfied: scikit-learn in /Library/Frameworks/Python.framework/Versions/3.10/lib/python3.10/site-packages (from shap) (1.6.1)\n",
            "Requirement already satisfied: pandas in /Library/Frameworks/Python.framework/Versions/3.10/lib/python3.10/site-packages (from shap) (2.0.1)\n",
            "Requirement already satisfied: tqdm>=4.27.0 in /Users/anmoldevansh/Library/Python/3.10/lib/python/site-packages (from shap) (4.65.0)\n",
            "Requirement already satisfied: packaging>20.9 in /Library/Frameworks/Python.framework/Versions/3.10/lib/python3.10/site-packages (from shap) (21.3)\n",
            "Requirement already satisfied: slicer==0.0.8 in /Library/Frameworks/Python.framework/Versions/3.10/lib/python3.10/site-packages (from shap) (0.0.8)\n",
            "Requirement already satisfied: numba>=0.54 in /Library/Frameworks/Python.framework/Versions/3.10/lib/python3.10/site-packages (from shap) (0.61.2)\n",
            "Requirement already satisfied: cloudpickle in /Library/Frameworks/Python.framework/Versions/3.10/lib/python3.10/site-packages (from shap) (3.1.1)\n",
            "Requirement already satisfied: typing-extensions in /Library/Frameworks/Python.framework/Versions/3.10/lib/python3.10/site-packages (from shap) (4.14.1)\n",
            "Requirement already satisfied: llvmlite<0.45,>=0.44.0dev0 in /Library/Frameworks/Python.framework/Versions/3.10/lib/python3.10/site-packages (from numba>=0.54->shap) (0.44.0)\n",
            "Requirement already satisfied: pyparsing!=3.0.5,>=2.0.2 in /Library/Frameworks/Python.framework/Versions/3.10/lib/python3.10/site-packages (from packaging>20.9->shap) (3.0.9)\n",
            "Requirement already satisfied: python-dateutil>=2.8.2 in /Library/Frameworks/Python.framework/Versions/3.10/lib/python3.10/site-packages (from pandas->shap) (2.8.2)\n",
            "Requirement already satisfied: pytz>=2020.1 in /Library/Frameworks/Python.framework/Versions/3.10/lib/python3.10/site-packages (from pandas->shap) (2023.3)\n",
            "Requirement already satisfied: tzdata>=2022.1 in /Library/Frameworks/Python.framework/Versions/3.10/lib/python3.10/site-packages (from pandas->shap) (2023.3)\n",
            "Requirement already satisfied: six>=1.5 in /Library/Frameworks/Python.framework/Versions/3.10/lib/python3.10/site-packages (from python-dateutil>=2.8.2->pandas->shap) (1.16.0)\n",
            "Requirement already satisfied: joblib>=1.2.0 in /Users/anmoldevansh/Library/Python/3.10/lib/python/site-packages (from scikit-learn->shap) (1.2.0)\n",
            "Requirement already satisfied: threadpoolctl>=3.1.0 in /Library/Frameworks/Python.framework/Versions/3.10/lib/python3.10/site-packages (from scikit-learn->shap) (3.2.0)\n",
            "Collecting numpy (from shap)\n",
            "  Using cached numpy-1.26.4-cp310-cp310-macosx_11_0_arm64.whl.metadata (61 kB)\n",
            "Using cached numpy-1.26.4-cp310-cp310-macosx_11_0_arm64.whl (14.0 MB)\n",
            "Installing collected packages: numpy\n",
            "  Attempting uninstall: numpy\n",
            "    Found existing installation: numpy 2.2.6\n",
            "    Uninstalling numpy-2.2.6:\n",
            "      Successfully uninstalled numpy-2.2.6\n",
            "\u001b[31mERROR: pip's dependency resolver does not currently take into account all the packages that are installed. This behaviour is the source of the following dependency conflicts.\n",
            "gradio 3.45.2 requires websockets<12.0,>=10.0, but you have websockets 15.0.1 which is incompatible.\n",
            "tensorflow 2.19.0 requires keras>=3.5.0, but you have keras 2.12.0 which is incompatible.\n",
            "tensorflow 2.19.0 requires tensorboard~=2.19.0, but you have tensorboard 2.12.3 which is incompatible.\n",
            "tensorflow-macos 2.12.0 requires numpy<1.24,>=1.22, but you have numpy 1.26.4 which is incompatible.\u001b[0m\u001b[31m\n",
            "\u001b[0mSuccessfully installed numpy-1.26.4\n",
            "Note: you may need to restart the kernel to use updated packages.\n"
          ]
        },
        {
          "name": "stderr",
          "output_type": "stream",
          "text": [
            "huggingface/tokenizers: The current process just got forked, after parallelism has already been used. Disabling parallelism to avoid deadlocks...\n",
            "To disable this warning, you can either:\n",
            "\t- Avoid using `tokenizers` before the fork if possible\n",
            "\t- Explicitly set the environment variable TOKENIZERS_PARALLELISM=(true | false)\n"
          ]
        },
        {
          "name": "stdout",
          "output_type": "stream",
          "text": [
            "Requirement already satisfied: optuna in /Library/Frameworks/Python.framework/Versions/3.10/lib/python3.10/site-packages (4.4.0)\n",
            "Requirement already satisfied: alembic>=1.5.0 in /Library/Frameworks/Python.framework/Versions/3.10/lib/python3.10/site-packages (from optuna) (1.16.4)\n",
            "Requirement already satisfied: colorlog in /Library/Frameworks/Python.framework/Versions/3.10/lib/python3.10/site-packages (from optuna) (6.9.0)\n",
            "Requirement already satisfied: numpy in /Library/Frameworks/Python.framework/Versions/3.10/lib/python3.10/site-packages (from optuna) (1.26.4)\n",
            "Requirement already satisfied: packaging>=20.0 in /Library/Frameworks/Python.framework/Versions/3.10/lib/python3.10/site-packages (from optuna) (21.3)\n",
            "Requirement already satisfied: sqlalchemy>=1.4.2 in /Library/Frameworks/Python.framework/Versions/3.10/lib/python3.10/site-packages (from optuna) (2.0.42)\n",
            "Requirement already satisfied: tqdm in /Users/anmoldevansh/Library/Python/3.10/lib/python/site-packages (from optuna) (4.65.0)\n",
            "Requirement already satisfied: PyYAML in /Library/Frameworks/Python.framework/Versions/3.10/lib/python3.10/site-packages (from optuna) (6.0.1)\n",
            "Requirement already satisfied: Mako in /Library/Frameworks/Python.framework/Versions/3.10/lib/python3.10/site-packages (from alembic>=1.5.0->optuna) (1.3.10)\n",
            "Requirement already satisfied: typing-extensions>=4.12 in /Library/Frameworks/Python.framework/Versions/3.10/lib/python3.10/site-packages (from alembic>=1.5.0->optuna) (4.14.1)\n",
            "Requirement already satisfied: tomli in /Library/Frameworks/Python.framework/Versions/3.10/lib/python3.10/site-packages (from alembic>=1.5.0->optuna) (2.2.1)\n",
            "Requirement already satisfied: pyparsing!=3.0.5,>=2.0.2 in /Library/Frameworks/Python.framework/Versions/3.10/lib/python3.10/site-packages (from packaging>=20.0->optuna) (3.0.9)\n",
            "Requirement already satisfied: MarkupSafe>=0.9.2 in /Library/Frameworks/Python.framework/Versions/3.10/lib/python3.10/site-packages (from Mako->alembic>=1.5.0->optuna) (2.1.2)\n",
            "Note: you may need to restart the kernel to use updated packages.\n"
          ]
        }
      ],
      "source": [
        "# Step 1: Installing Libraries\n",
        "!pip install -q sentence-transformers\n",
        "!pip install -q nltk\n",
        "!pip install -q scikit-learn\n",
        "!pip install -q tensorflow\n",
        "!pip install -q keras==2.11.0\n",
        "!pip install tensorflow==2.11.0\n",
        "%pip install --upgrade numpy\n",
        "%pip install shap\n",
        "%pip install optuna\n",
        "\n",
        "\n",
        "\n"
      ]
    },
    {
      "cell_type": "code",
      "execution_count": 18,
      "id": "3AZa7RA23Dwf",
      "metadata": {
        "colab": {
          "base_uri": "https://localhost:8080/"
        },
        "id": "3AZa7RA23Dwf",
        "outputId": "41e00ce8-2e3d-42ea-e8da-d1240156261c"
      },
      "outputs": [
        {
          "name": "stderr",
          "output_type": "stream",
          "text": [
            "[nltk_data] Downloading package punkt to\n",
            "[nltk_data]     /Users/anmoldevansh/nltk_data...\n",
            "[nltk_data]   Package punkt is already up-to-date!\n"
          ]
        },
        {
          "data": {
            "text/plain": [
              "True"
            ]
          },
          "execution_count": 18,
          "metadata": {},
          "output_type": "execute_result"
        }
      ],
      "source": [
        "# Step 2: Import Libraries\n",
        "import pandas as pd\n",
        "import numpy as np\n",
        "import re\n",
        "import string\n",
        "import nltk\n",
        "import matplotlib.pyplot as plt\n",
        "import seaborn as sns\n",
        "import tensorflow as tf\n",
        "\n",
        "# If running in Google Colab, uncomment the next line:\n",
        "# import google.colab.files as files\n",
        "\n",
        "\n",
        "from sentence_transformers import SentenceTransformer\n",
        "from sklearn.model_selection import train_test_split\n",
        "from sklearn.metrics import classification_report, accuracy_score, confusion_matrix\n",
        "from tensorflow.keras.models import Sequential\n",
        "from tensorflow.keras.layers import Dense, Dropout, BatchNormalization\n",
        "from tensorflow.keras.callbacks import EarlyStopping, CSVLogger, ReduceLROnPlateau\n",
        "from tensorflow.keras.regularizers import l2\n",
        "\n",
        "nltk.download('punkt')"
      ]
    },
    {
      "cell_type": "code",
      "execution_count": 19,
      "id": "Izwh5A9z3nfI",
      "metadata": {
        "colab": {
          "base_uri": "https://localhost:8080/",
          "height": 222
        },
        "id": "Izwh5A9z3nfI",
        "outputId": "ed6214d9-47f4-405e-9051-d1d7c1c6dfb1"
      },
      "outputs": [
        {
          "data": {
            "text/html": [
              "<div>\n",
              "<style scoped>\n",
              "    .dataframe tbody tr th:only-of-type {\n",
              "        vertical-align: middle;\n",
              "    }\n",
              "\n",
              "    .dataframe tbody tr th {\n",
              "        vertical-align: top;\n",
              "    }\n",
              "\n",
              "    .dataframe thead th {\n",
              "        text-align: right;\n",
              "    }\n",
              "</style>\n",
              "<table border=\"1\" class=\"dataframe\">\n",
              "  <thead>\n",
              "    <tr style=\"text-align: right;\">\n",
              "      <th></th>\n",
              "      <th>text</th>\n",
              "      <th>label</th>\n",
              "    </tr>\n",
              "  </thead>\n",
              "  <tbody>\n",
              "    <tr>\n",
              "      <th>0</th>\n",
              "      <td>we understand that most people who reply immed...</td>\n",
              "      <td>1</td>\n",
              "    </tr>\n",
              "    <tr>\n",
              "      <th>1</th>\n",
              "      <td>welcome to r depression s check in post a plac...</td>\n",
              "      <td>1</td>\n",
              "    </tr>\n",
              "    <tr>\n",
              "      <th>2</th>\n",
              "      <td>anyone else instead of sleeping more when depr...</td>\n",
              "      <td>1</td>\n",
              "    </tr>\n",
              "    <tr>\n",
              "      <th>3</th>\n",
              "      <td>i ve kind of stuffed around a lot in my life d...</td>\n",
              "      <td>1</td>\n",
              "    </tr>\n",
              "    <tr>\n",
              "      <th>4</th>\n",
              "      <td>sleep is my greatest and most comforting escap...</td>\n",
              "      <td>1</td>\n",
              "    </tr>\n",
              "  </tbody>\n",
              "</table>\n",
              "</div>"
            ],
            "text/plain": [
              "                                                text  label\n",
              "0  we understand that most people who reply immed...      1\n",
              "1  welcome to r depression s check in post a plac...      1\n",
              "2  anyone else instead of sleeping more when depr...      1\n",
              "3  i ve kind of stuffed around a lot in my life d...      1\n",
              "4  sleep is my greatest and most comforting escap...      1"
            ]
          },
          "execution_count": 19,
          "metadata": {},
          "output_type": "execute_result"
        }
      ],
      "source": [
        "# Step 3: Load & Preprocess Dataset\n",
        "# Upload your CSV file manually or mount Google Drive if needed\n",
        "\n",
        "#from google.colab import files\n",
        "#uploaded = files.upload()\n",
        "\n",
        "df = pd.read_csv(\"depression_dataset_reddit.csv\")\n",
        "\n",
        "# Renaming columns for simplicity\n",
        "df.columns = ['text', 'label']\n",
        "df.head()\n"
      ]
    },
    {
      "cell_type": "code",
      "execution_count": 20,
      "id": "yoeK8Svo3vpT",
      "metadata": {
        "colab": {
          "base_uri": "https://localhost:8080/",
          "height": 204
        },
        "id": "yoeK8Svo3vpT",
        "outputId": "39d01c77-6b0e-4f7f-ed86-dc10b8ec5c2d"
      },
      "outputs": [
        {
          "data": {
            "text/html": [
              "<div>\n",
              "<style scoped>\n",
              "    .dataframe tbody tr th:only-of-type {\n",
              "        vertical-align: middle;\n",
              "    }\n",
              "\n",
              "    .dataframe tbody tr th {\n",
              "        vertical-align: top;\n",
              "    }\n",
              "\n",
              "    .dataframe thead th {\n",
              "        text-align: right;\n",
              "    }\n",
              "</style>\n",
              "<table border=\"1\" class=\"dataframe\">\n",
              "  <thead>\n",
              "    <tr style=\"text-align: right;\">\n",
              "      <th></th>\n",
              "      <th>text</th>\n",
              "      <th>label</th>\n",
              "      <th>clean_text</th>\n",
              "    </tr>\n",
              "  </thead>\n",
              "  <tbody>\n",
              "    <tr>\n",
              "      <th>0</th>\n",
              "      <td>we understand that most people who reply immed...</td>\n",
              "      <td>1</td>\n",
              "      <td>we understand that most people who reply immed...</td>\n",
              "    </tr>\n",
              "    <tr>\n",
              "      <th>1</th>\n",
              "      <td>welcome to r depression s check in post a plac...</td>\n",
              "      <td>1</td>\n",
              "      <td>welcome to r depression s check in post a plac...</td>\n",
              "    </tr>\n",
              "    <tr>\n",
              "      <th>2</th>\n",
              "      <td>anyone else instead of sleeping more when depr...</td>\n",
              "      <td>1</td>\n",
              "      <td>anyone else instead of sleeping more when depr...</td>\n",
              "    </tr>\n",
              "    <tr>\n",
              "      <th>3</th>\n",
              "      <td>i ve kind of stuffed around a lot in my life d...</td>\n",
              "      <td>1</td>\n",
              "      <td>i ve kind of stuffed around a lot in my life d...</td>\n",
              "    </tr>\n",
              "    <tr>\n",
              "      <th>4</th>\n",
              "      <td>sleep is my greatest and most comforting escap...</td>\n",
              "      <td>1</td>\n",
              "      <td>sleep is my greatest and most comforting escap...</td>\n",
              "    </tr>\n",
              "  </tbody>\n",
              "</table>\n",
              "</div>"
            ],
            "text/plain": [
              "                                                text  label   \n",
              "0  we understand that most people who reply immed...      1  \\\n",
              "1  welcome to r depression s check in post a plac...      1   \n",
              "2  anyone else instead of sleeping more when depr...      1   \n",
              "3  i ve kind of stuffed around a lot in my life d...      1   \n",
              "4  sleep is my greatest and most comforting escap...      1   \n",
              "\n",
              "                                          clean_text  \n",
              "0  we understand that most people who reply immed...  \n",
              "1  welcome to r depression s check in post a plac...  \n",
              "2  anyone else instead of sleeping more when depr...  \n",
              "3  i ve kind of stuffed around a lot in my life d...  \n",
              "4  sleep is my greatest and most comforting escap...  "
            ]
          },
          "execution_count": 20,
          "metadata": {},
          "output_type": "execute_result"
        }
      ],
      "source": [
        "import string\n",
        "\n",
        "def clean_text(text):\n",
        "    text = text.lower()\n",
        "    text = re.sub(r\"http\\S+|www\\S+|https\\S+\", '', text, flags=re.MULTILINE)\n",
        "    text = re.sub(r'\\@w+|\\#','', text)\n",
        "    text = re.sub(r'[^\\x00-\\x7f]',r'', text)  # Remove non-ASCII\n",
        "    text = re.sub(r'[%s]' % re.escape(string.punctuation), '', text)\n",
        "    text = re.sub(r'\\s+', ' ', text).strip()\n",
        "    return text\n",
        "\n",
        "df['clean_text'] = df['text'].apply(clean_text)\n",
        "df = df[df['clean_text'].str.strip() != \"\"]\n",
        "df.head()\n"
      ]
    },
    {
      "cell_type": "code",
      "execution_count": 21,
      "id": "SgbBh9Rp3yzJ",
      "metadata": {
        "colab": {
          "base_uri": "https://localhost:8080/",
          "height": 49,
          "referenced_widgets": [
            "87efaa020be046a49257b9adba07d8ef",
            "f3bb7067eced4fd2ba7bae868e52d598",
            "f2b8f7b4e4414550966436cebaebc0e9",
            "58d2c724df8b422482504969fd51a5a1",
            "3d29fb061d054157ac8588cf0c8ab3b7",
            "2e473d4dd96f4cb0b23c51aef9d7747c",
            "f878fb1ae18a418fb817abeba33d2e10",
            "a340c0cc1baf4c49b7531cc3a2e35e0a",
            "a3193ccbbb3f4b63a822804c1e05f95f",
            "93deacafa8b64fc8bc9182bba224f7e1",
            "44fc7f36e50a4b56aca785a8f1019d08"
          ]
        },
        "id": "SgbBh9Rp3yzJ",
        "outputId": "5d288d74-1f1c-4f85-98db-d942ddd54949"
      },
      "outputs": [
        {
          "data": {
            "application/vnd.jupyter.widget-view+json": {
              "model_id": "af87111f401340559a93c9d16047972a",
              "version_major": 2,
              "version_minor": 0
            },
            "text/plain": [
              "Batches:   0%|          | 0/242 [00:00<?, ?it/s]"
            ]
          },
          "metadata": {},
          "output_type": "display_data"
        },
        {
          "name": "stderr",
          "output_type": "stream",
          "text": [
            "/Library/Frameworks/Python.framework/Versions/3.10/lib/python3.10/site-packages/torch/nn/modules/module.py:1762: FutureWarning: `encoder_attention_mask` is deprecated and will be removed in version 4.55.0 for `BertSdpaSelfAttention.forward`.\n",
            "  return forward_call(*args, **kwargs)\n"
          ]
        }
      ],
      "source": [
        "sbert_model = SentenceTransformer('all-MiniLM-L6-v2')\n",
        "embeddings = sbert_model.encode(df['clean_text'].tolist(), show_progress_bar=True)\n",
        "X = np.array(embeddings)\n",
        "y = df['label'].values"
      ]
    },
    {
      "cell_type": "code",
      "execution_count": 23,
      "id": "EASFPv_493HX",
      "metadata": {
        "id": "EASFPv_493HX"
      },
      "outputs": [
        {
          "name": "stdout",
          "output_type": "stream",
          "text": [
            "Train: (6184, 384)\n",
            "Validation: (773, 384)\n",
            "Test: (774, 384)\n"
          ]
        }
      ],
      "source": [
        "from sklearn.model_selection import train_test_split\n",
        "\n",
        "# Step 1: Split into Train (80%) and Temp (20%)\n",
        "X_train, X_temp, y_train, y_temp = train_test_split(\n",
        "    X, y, test_size=0.2, random_state=42, stratify=y\n",
        ")\n",
        "\n",
        "# Step 2: Split Temp into Validation (10%) and Test (10%)\n",
        "X_val, X_test, y_val, y_test = train_test_split(\n",
        "    X_temp, y_temp, test_size=0.5, random_state=42, stratify=y_temp\n",
        ")\n",
        "\n",
        "# Confirm the shapes\n",
        "print(\"Train:\", X_train.shape)\n",
        "print(\"Validation:\", X_val.shape)\n",
        "print(\"Test:\", X_test.shape)\n"
      ]
    },
    {
      "cell_type": "code",
      "execution_count": 24,
      "id": "BIpFuzBU97zr",
      "metadata": {
        "colab": {
          "base_uri": "https://localhost:8080/",
          "height": 561
        },
        "id": "BIpFuzBU97zr",
        "outputId": "79ec33c5-c8a8-4e0a-8d78-2ca8374515c6"
      },
      "outputs": [
        {
          "name": "stderr",
          "output_type": "stream",
          "text": [
            "WARNING:absl:At this time, the v2.11+ optimizer `tf.keras.optimizers.Adam` runs slowly on M1/M2 Macs, please use the legacy Keras optimizer instead, located at `tf.keras.optimizers.legacy.Adam`.\n",
            "WARNING:absl:There is a known slowdown when using v2.11+ Keras optimizers on M1/M2 Macs. Falling back to the legacy Keras optimizer, i.e., `tf.keras.optimizers.legacy.Adam`.\n"
          ]
        },
        {
          "name": "stdout",
          "output_type": "stream",
          "text": [
            "Model: \"sequential_1\"\n",
            "_________________________________________________________________\n",
            " Layer (type)                Output Shape              Param #   \n",
            "=================================================================\n",
            " dense_5 (Dense)             (None, 384)               147840    \n",
            "                                                                 \n",
            " batch_normalization_3 (Batc  (None, 384)              1536      \n",
            " hNormalization)                                                 \n",
            "                                                                 \n",
            " dropout_4 (Dropout)         (None, 384)               0         \n",
            "                                                                 \n",
            " dense_6 (Dense)             (None, 256)               98560     \n",
            "                                                                 \n",
            " batch_normalization_4 (Batc  (None, 256)              1024      \n",
            " hNormalization)                                                 \n",
            "                                                                 \n",
            " dropout_5 (Dropout)         (None, 256)               0         \n",
            "                                                                 \n",
            " dense_7 (Dense)             (None, 128)               32896     \n",
            "                                                                 \n",
            " batch_normalization_5 (Batc  (None, 128)              512       \n",
            " hNormalization)                                                 \n",
            "                                                                 \n",
            " dropout_6 (Dropout)         (None, 128)               0         \n",
            "                                                                 \n",
            " dense_8 (Dense)             (None, 64)                8256      \n",
            "                                                                 \n",
            " dropout_7 (Dropout)         (None, 64)                0         \n",
            "                                                                 \n",
            " dense_9 (Dense)             (None, 1)                 65        \n",
            "                                                                 \n",
            "=================================================================\n",
            "Total params: 290,689\n",
            "Trainable params: 289,153\n",
            "Non-trainable params: 1,536\n",
            "_________________________________________________________________\n"
          ]
        }
      ],
      "source": [
        "# Step 7: Train Model with CSV Logging, ReduceLR, EarlyStopping\n",
        "\n",
        "model = Sequential([\n",
        "    Dense(384, activation='relu', kernel_regularizer=l2(0.001), input_shape=(X.shape[1],)),\n",
        "    BatchNormalization(),\n",
        "    Dropout(0.3),\n",
        "    Dense(256, activation='relu', kernel_regularizer=l2(0.001)),\n",
        "    BatchNormalization(),\n",
        "    Dropout(0.3),\n",
        "    Dense(128, activation='relu', kernel_regularizer=l2(0.001)),\n",
        "    BatchNormalization(),\n",
        "    Dropout(0.2),\n",
        "    Dense(64, activation='relu', kernel_regularizer=l2(0.001)),\n",
        "    Dropout(0.2),\n",
        "    Dense(1, activation='sigmoid')\n",
        "])\n",
        "\n",
        "model.compile(optimizer=tf.keras.optimizers.Adam(learning_rate=2e-4), loss='binary_crossentropy', metrics=['accuracy'])\n",
        "model.summary()"
      ]
    },
    {
      "cell_type": "code",
      "execution_count": 26,
      "id": "vcJBTR0SCU4a",
      "metadata": {
        "colab": {
          "base_uri": "https://localhost:8080/"
        },
        "id": "vcJBTR0SCU4a",
        "outputId": "e0e31f08-f52d-4f3c-9b42-21c4bccc8059"
      },
      "outputs": [
        {
          "name": "stdout",
          "output_type": "stream",
          "text": [
            "Epoch 1/50\n",
            "194/194 [==============================] - 8s 41ms/step - loss: 0.6104 - accuracy: 0.9437 - val_loss: 0.5123 - val_accuracy: 0.9725 - lr: 2.0000e-04\n",
            "Epoch 2/50\n",
            "194/194 [==============================] - 6s 31ms/step - loss: 0.6031 - accuracy: 0.9368 - val_loss: 0.4758 - val_accuracy: 0.9742 - lr: 2.0000e-04\n",
            "Epoch 3/50\n",
            "194/194 [==============================] - 6s 31ms/step - loss: 0.5547 - accuracy: 0.9449 - val_loss: 0.4690 - val_accuracy: 0.9580 - lr: 2.0000e-04\n",
            "Epoch 4/50\n",
            "194/194 [==============================] - 6s 30ms/step - loss: 0.5613 - accuracy: 0.9377 - val_loss: 0.4363 - val_accuracy: 0.9645 - lr: 2.0000e-04\n",
            "Epoch 5/50\n",
            "194/194 [==============================] - 6s 30ms/step - loss: 0.5588 - accuracy: 0.9371 - val_loss: 0.4018 - val_accuracy: 0.9790 - lr: 2.0000e-04\n",
            "Epoch 6/50\n",
            "194/194 [==============================] - 6s 30ms/step - loss: 0.5428 - accuracy: 0.9360 - val_loss: 0.3913 - val_accuracy: 0.9774 - lr: 2.0000e-04\n",
            "Epoch 7/50\n",
            "194/194 [==============================] - 6s 30ms/step - loss: 0.5435 - accuracy: 0.9410 - val_loss: 0.3927 - val_accuracy: 0.9725 - lr: 2.0000e-04\n",
            "Epoch 8/50\n",
            "194/194 [==============================] - 6s 30ms/step - loss: 0.5710 - accuracy: 0.9339 - val_loss: 0.3769 - val_accuracy: 0.9758 - lr: 2.0000e-04\n",
            "Epoch 9/50\n",
            "194/194 [==============================] - 6s 30ms/step - loss: 0.5872 - accuracy: 0.9360 - val_loss: 0.3885 - val_accuracy: 0.9709 - lr: 2.0000e-04\n",
            "Epoch 10/50\n",
            "194/194 [==============================] - 6s 30ms/step - loss: 0.5621 - accuracy: 0.9408 - val_loss: 0.3808 - val_accuracy: 0.9709 - lr: 2.0000e-04\n",
            "Epoch 11/50\n",
            "194/194 [==============================] - ETA: 0s - loss: 0.5768 - accuracy: 0.9373\n",
            "Epoch 11: ReduceLROnPlateau reducing learning rate to 9.999999747378752e-05.\n",
            "194/194 [==============================] - 6s 30ms/step - loss: 0.5768 - accuracy: 0.9373 - val_loss: 0.3787 - val_accuracy: 0.9774 - lr: 2.0000e-04\n",
            "Epoch 12/50\n",
            "194/194 [==============================] - 6s 31ms/step - loss: 0.5948 - accuracy: 0.9356 - val_loss: 0.3751 - val_accuracy: 0.9758 - lr: 1.0000e-04\n",
            "Epoch 13/50\n",
            "194/194 [==============================] - 6s 30ms/step - loss: 0.5739 - accuracy: 0.9407 - val_loss: 0.3758 - val_accuracy: 0.9758 - lr: 1.0000e-04\n",
            "Epoch 14/50\n",
            "194/194 [==============================] - 6s 31ms/step - loss: 0.5693 - accuracy: 0.9431 - val_loss: 0.3740 - val_accuracy: 0.9774 - lr: 1.0000e-04\n",
            "Epoch 15/50\n",
            "194/194 [==============================] - 6s 30ms/step - loss: 0.6051 - accuracy: 0.9389 - val_loss: 0.3855 - val_accuracy: 0.9758 - lr: 1.0000e-04\n",
            "Epoch 16/50\n",
            "194/194 [==============================] - 6s 31ms/step - loss: 0.5983 - accuracy: 0.9389 - val_loss: 0.3824 - val_accuracy: 0.9758 - lr: 1.0000e-04\n",
            "Epoch 17/50\n",
            "194/194 [==============================] - ETA: 0s - loss: 0.5707 - accuracy: 0.9386\n",
            "Epoch 17: ReduceLROnPlateau reducing learning rate to 4.999999873689376e-05.\n",
            "194/194 [==============================] - 6s 30ms/step - loss: 0.5707 - accuracy: 0.9386 - val_loss: 0.3789 - val_accuracy: 0.9758 - lr: 1.0000e-04\n",
            "Epoch 18/50\n",
            "194/194 [==============================] - 6s 31ms/step - loss: 0.6133 - accuracy: 0.9410 - val_loss: 0.3789 - val_accuracy: 0.9758 - lr: 5.0000e-05\n",
            "Epoch 19/50\n",
            "194/194 [==============================] - 6s 31ms/step - loss: 0.5469 - accuracy: 0.9463 - val_loss: 0.3803 - val_accuracy: 0.9742 - lr: 5.0000e-05\n"
          ]
        }
      ],
      "source": [
        "# Step 7: Training Model with CSV Logging\n",
        "from tensorflow.keras.callbacks import EarlyStopping, ReduceLROnPlateau, CSVLogger\n",
        "\n",
        "# Callbacks\n",
        "csv_logger = CSVLogger(\"training_log.csv\", append=False)\n",
        "early_stop = EarlyStopping(monitor=\"val_loss\", patience=5, restore_best_weights=True)\n",
        "reduce_lr = ReduceLROnPlateau(monitor=\"val_loss\", patience=3, factor=0.5, verbose=1)\n",
        "\n",
        "# Model Training\n",
        "history = model.fit(\n",
        "    X_train, y_train,\n",
        "    validation_data=(X_val, y_val), \n",
        "    epochs=50,\n",
        "    batch_size=32,\n",
        "    callbacks=[csv_logger, early_stop, reduce_lr],\n",
        "    verbose=1\n",
        ")\n",
        "\n",
        "\n"
      ]
    },
    {
      "cell_type": "code",
      "execution_count": 27,
      "id": "Ln82ngqf992F",
      "metadata": {
        "colab": {
          "base_uri": "https://localhost:8080/"
        },
        "id": "Ln82ngqf992F",
        "outputId": "f732b42d-eb0b-4799-e90c-efb4fe2f2e94"
      },
      "outputs": [],
      "source": [
        "# Step 8: Save Model\n",
        "model.save(\"depression_sbert_model.keras\")\n",
        "pd.DataFrame(df).to_csv(\"depression_training_data.csv\", index=False)"
      ]
    },
    {
      "cell_type": "code",
      "execution_count": 28,
      "id": "-yPT8MEn9_OI",
      "metadata": {
        "colab": {
          "base_uri": "https://localhost:8080/",
          "height": 441
        },
        "id": "-yPT8MEn9_OI",
        "outputId": "46a94a12-e505-41c0-e649-2bcfbaad0545"
      },
      "outputs": [
        {
          "data": {
            "image/png": "[encoded data removed]",
            "text/plain": [
              "<Figure size 1200x500 with 2 Axes>"
            ]
          },
          "metadata": {},
          "output_type": "display_data"
        }
      ],
      "source": [
        "# Step 9: Plot Accuracy & Loss\n",
        "log = pd.read_csv(\"training_log.csv\")\n",
        "plt.figure(figsize=(12,5))\n",
        "\n",
        "plt.subplot(1,2,1)\n",
        "plt.plot(log['accuracy'], label='Train Accuracy')\n",
        "plt.plot(log['val_accuracy'], label='Val Accuracy')\n",
        "plt.title(\"Accuracy over Epochs\")\n",
        "plt.xlabel(\"Epoch\")\n",
        "plt.ylabel(\"Accuracy\")\n",
        "plt.legend()\n",
        "\n",
        "plt.subplot(1,2,2)\n",
        "plt.plot(log['loss'], label='Train Loss')\n",
        "plt.plot(log['val_loss'], label='Val Loss')\n",
        "plt.title(\"Loss over Epochs\")\n",
        "plt.xlabel(\"Epoch\")\n",
        "plt.ylabel(\"Loss\")\n",
        "plt.legend()\n",
        "\n",
        "plt.tight_layout()\n",
        "plt.show()"
      ]
    },
    {
      "cell_type": "code",
      "execution_count": 29,
      "id": "AB8OEcfM_bjO",
      "metadata": {
        "colab": {
          "base_uri": "https://localhost:8080/",
          "height": 676
        },
        "id": "AB8OEcfM_bjO",
        "outputId": "6314a2cb-2141-44c1-baa0-84aa2d19b829"
      },
      "outputs": [
        {
          "name": "stdout",
          "output_type": "stream",
          "text": [
            "25/25 [==============================] - 0s 5ms/step\n",
            "Classification Report:\n",
            "               precision    recall  f1-score   support\n",
            "\n",
            "           0       0.96      0.97      0.97       390\n",
            "           1       0.97      0.96      0.96       384\n",
            "\n",
            "    accuracy                           0.97       774\n",
            "   macro avg       0.97      0.97      0.97       774\n",
            "weighted avg       0.97      0.97      0.97       774\n",
            "\n",
            "Accuracy: 0.9651162790697675\n"
          ]
        },
        {
          "data": {
            "image/png": "[encoded data removed]",
            "text/plain": [
              "<Figure size 640x480 with 2 Axes>"
            ]
          },
          "metadata": {},
          "output_type": "display_data"
        }
      ],
      "source": [
        "# Step 10: Evaluate Model\n",
        "y_pred_probs = model.predict(X_test)\n",
        "y_pred = (y_pred_probs > 0.5).astype(int)\n",
        "\n",
        "print(\"Classification Report:\\n\", classification_report(y_test, y_pred))\n",
        "print(\"Accuracy:\", accuracy_score(y_test, y_pred))\n",
        "\n",
        "cm = confusion_matrix(y_test, y_pred)\n",
        "sns.heatmap(cm, annot=True, fmt='d', cmap='Blues')\n",
        "plt.title(\"Confusion Matrix\")\n",
        "plt.xlabel(\"Predicted\")\n",
        "plt.ylabel(\"True\")\n",
        "plt.show()"
      ]
    },
    {
      "cell_type": "code",
      "execution_count": 31,
      "id": "3bce04a1",
      "metadata": {},
      "outputs": [
        {
          "name": "stderr",
          "output_type": "stream",
          "text": [
            "[I 2025-07-30 10:27:08,934] A new study created in memory with name: no-name-be975b49-2fea-428a-b7d6-e805eaa160ea\n",
            "WARNING:absl:At this time, the v2.11+ optimizer `tf.keras.optimizers.Adam` runs slowly on M1/M2 Macs, please use the legacy Keras optimizer instead, located at `tf.keras.optimizers.legacy.Adam`.\n",
            "WARNING:absl:There is a known slowdown when using v2.11+ Keras optimizers on M1/M2 Macs. Falling back to the legacy Keras optimizer, i.e., `tf.keras.optimizers.legacy.Adam`.\n"
          ]
        },
        {
          "name": "stdout",
          "output_type": "stream",
          "text": [
            "25/25 [==============================] - 0s 3ms/step\n"
          ]
        },
        {
          "name": "stderr",
          "output_type": "stream",
          "text": [
            "[I 2025-07-30 10:28:36,823] Trial 0 finished with value: 0.9547218628719275 and parameters: {'units_input': 448, 'l2_input': 0.0007083252993547784, 'dropout_input': 0.3436145956971896, 'n_layers': 1, 'units_l0': 192, 'dropout_l0': 0.4007350285806054, 'lr': 2.4134747171092852e-05}. Best is trial 0 with value: 0.9547218628719275.\n",
            "WARNING:absl:At this time, the v2.11+ optimizer `tf.keras.optimizers.Adam` runs slowly on M1/M2 Macs, please use the legacy Keras optimizer instead, located at `tf.keras.optimizers.legacy.Adam`.\n",
            "WARNING:absl:There is a known slowdown when using v2.11+ Keras optimizers on M1/M2 Macs. Falling back to the legacy Keras optimizer, i.e., `tf.keras.optimizers.legacy.Adam`.\n"
          ]
        },
        {
          "name": "stdout",
          "output_type": "stream",
          "text": [
            "25/25 [==============================] - 0s 4ms/step\n"
          ]
        },
        {
          "name": "stderr",
          "output_type": "stream",
          "text": [
            "[I 2025-07-30 10:30:35,587] Trial 1 finished with value: 0.9560155239327296 and parameters: {'units_input': 192, 'l2_input': 1.5670099151895293e-05, 'dropout_input': 0.2817652337101285, 'n_layers': 2, 'units_l0': 128, 'dropout_l0': 0.3685361025621632, 'units_l1': 64, 'dropout_l1': 0.4661791494398324, 'lr': 4.954719004237469e-05}. Best is trial 1 with value: 0.9560155239327296.\n",
            "WARNING:absl:At this time, the v2.11+ optimizer `tf.keras.optimizers.Adam` runs slowly on M1/M2 Macs, please use the legacy Keras optimizer instead, located at `tf.keras.optimizers.legacy.Adam`.\n",
            "WARNING:absl:There is a known slowdown when using v2.11+ Keras optimizers on M1/M2 Macs. Falling back to the legacy Keras optimizer, i.e., `tf.keras.optimizers.legacy.Adam`.\n"
          ]
        },
        {
          "name": "stdout",
          "output_type": "stream",
          "text": [
            "25/25 [==============================] - 0s 4ms/step\n"
          ]
        },
        {
          "name": "stderr",
          "output_type": "stream",
          "text": [
            "[I 2025-07-30 10:32:04,909] Trial 2 finished with value: 0.9598965071151359 and parameters: {'units_input': 320, 'l2_input': 1.3032782267879042e-05, 'dropout_input': 0.23473734742186297, 'n_layers': 1, 'units_l0': 128, 'dropout_l0': 0.2663391983959774, 'lr': 0.00012240913202726193}. Best is trial 2 with value: 0.9598965071151359.\n",
            "WARNING:absl:At this time, the v2.11+ optimizer `tf.keras.optimizers.Adam` runs slowly on M1/M2 Macs, please use the legacy Keras optimizer instead, located at `tf.keras.optimizers.legacy.Adam`.\n",
            "WARNING:absl:There is a known slowdown when using v2.11+ Keras optimizers on M1/M2 Macs. Falling back to the legacy Keras optimizer, i.e., `tf.keras.optimizers.legacy.Adam`.\n"
          ]
        },
        {
          "name": "stdout",
          "output_type": "stream",
          "text": [
            "25/25 [==============================] - 0s 4ms/step\n"
          ]
        },
        {
          "name": "stderr",
          "output_type": "stream",
          "text": [
            "[I 2025-07-30 10:34:08,976] Trial 3 finished with value: 0.9547218628719275 and parameters: {'units_input': 512, 'l2_input': 1.6738188390625357e-05, 'dropout_input': 0.37421900820014453, 'n_layers': 2, 'units_l0': 256, 'dropout_l0': 0.31654993059821546, 'units_l1': 192, 'dropout_l1': 0.4626303825758132, 'lr': 1.262924943324174e-05}. Best is trial 2 with value: 0.9598965071151359.\n",
            "WARNING:absl:At this time, the v2.11+ optimizer `tf.keras.optimizers.Adam` runs slowly on M1/M2 Macs, please use the legacy Keras optimizer instead, located at `tf.keras.optimizers.legacy.Adam`.\n",
            "WARNING:absl:There is a known slowdown when using v2.11+ Keras optimizers on M1/M2 Macs. Falling back to the legacy Keras optimizer, i.e., `tf.keras.optimizers.legacy.Adam`.\n"
          ]
        },
        {
          "name": "stdout",
          "output_type": "stream",
          "text": [
            "25/25 [==============================] - 0s 4ms/step\n"
          ]
        },
        {
          "name": "stderr",
          "output_type": "stream",
          "text": [
            "[I 2025-07-30 10:35:24,059] Trial 4 finished with value: 0.9560155239327296 and parameters: {'units_input': 192, 'l2_input': 0.0011648025341158684, 'dropout_input': 0.2014260364388854, 'n_layers': 2, 'units_l0': 192, 'dropout_l0': 0.4244570802924771, 'units_l1': 192, 'dropout_l1': 0.2934936996821369, 'lr': 0.0007882513343052852}. Best is trial 2 with value: 0.9598965071151359.\n",
            "WARNING:absl:At this time, the v2.11+ optimizer `tf.keras.optimizers.Adam` runs slowly on M1/M2 Macs, please use the legacy Keras optimizer instead, located at `tf.keras.optimizers.legacy.Adam`.\n",
            "WARNING:absl:There is a known slowdown when using v2.11+ Keras optimizers on M1/M2 Macs. Falling back to the legacy Keras optimizer, i.e., `tf.keras.optimizers.legacy.Adam`.\n"
          ]
        },
        {
          "name": "stdout",
          "output_type": "stream",
          "text": [
            "25/25 [==============================] - 0s 5ms/step\n"
          ]
        },
        {
          "name": "stderr",
          "output_type": "stream",
          "text": [
            "[I 2025-07-30 10:37:28,102] Trial 5 finished with value: 0.9611901681759379 and parameters: {'units_input': 384, 'l2_input': 0.006194736095885513, 'dropout_input': 0.26452030205607857, 'n_layers': 2, 'units_l0': 256, 'dropout_l0': 0.4494388363004185, 'units_l1': 256, 'dropout_l1': 0.4001718190050235, 'lr': 2.7584073718576273e-05}. Best is trial 5 with value: 0.9611901681759379.\n",
            "WARNING:absl:At this time, the v2.11+ optimizer `tf.keras.optimizers.Adam` runs slowly on M1/M2 Macs, please use the legacy Keras optimizer instead, located at `tf.keras.optimizers.legacy.Adam`.\n",
            "WARNING:absl:There is a known slowdown when using v2.11+ Keras optimizers on M1/M2 Macs. Falling back to the legacy Keras optimizer, i.e., `tf.keras.optimizers.legacy.Adam`.\n"
          ]
        },
        {
          "name": "stdout",
          "output_type": "stream",
          "text": [
            "25/25 [==============================] - 0s 5ms/step\n"
          ]
        },
        {
          "name": "stderr",
          "output_type": "stream",
          "text": [
            "[I 2025-07-30 10:40:07,967] Trial 6 finished with value: 0.9495472186287193 and parameters: {'units_input': 448, 'l2_input': 0.00034337763877942065, 'dropout_input': 0.3850475271375159, 'n_layers': 3, 'units_l0': 128, 'dropout_l0': 0.3838184913250582, 'units_l1': 256, 'dropout_l1': 0.3799654200872874, 'units_l2': 128, 'dropout_l2': 0.23264311471140525, 'lr': 1.5641737488119735e-05}. Best is trial 5 with value: 0.9611901681759379.\n",
            "WARNING:absl:At this time, the v2.11+ optimizer `tf.keras.optimizers.Adam` runs slowly on M1/M2 Macs, please use the legacy Keras optimizer instead, located at `tf.keras.optimizers.legacy.Adam`.\n",
            "WARNING:absl:There is a known slowdown when using v2.11+ Keras optimizers on M1/M2 Macs. Falling back to the legacy Keras optimizer, i.e., `tf.keras.optimizers.legacy.Adam`.\n"
          ]
        },
        {
          "name": "stdout",
          "output_type": "stream",
          "text": [
            "25/25 [==============================] - 0s 4ms/step\n"
          ]
        },
        {
          "name": "stderr",
          "output_type": "stream",
          "text": [
            "[I 2025-07-30 10:41:37,822] Trial 7 finished with value: 0.9573091849935317 and parameters: {'units_input': 128, 'l2_input': 0.0003640147501407975, 'dropout_input': 0.36626024822315106, 'n_layers': 1, 'units_l0': 128, 'dropout_l0': 0.2719140352877381, 'lr': 6.405891248304641e-05}. Best is trial 5 with value: 0.9611901681759379.\n",
            "WARNING:absl:At this time, the v2.11+ optimizer `tf.keras.optimizers.Adam` runs slowly on M1/M2 Macs, please use the legacy Keras optimizer instead, located at `tf.keras.optimizers.legacy.Adam`.\n",
            "WARNING:absl:There is a known slowdown when using v2.11+ Keras optimizers on M1/M2 Macs. Falling back to the legacy Keras optimizer, i.e., `tf.keras.optimizers.legacy.Adam`.\n"
          ]
        },
        {
          "name": "stdout",
          "output_type": "stream",
          "text": [
            "25/25 [==============================] - 0s 4ms/step\n"
          ]
        },
        {
          "name": "stderr",
          "output_type": "stream",
          "text": [
            "[I 2025-07-30 10:42:54,103] Trial 8 finished with value: 0.9560155239327296 and parameters: {'units_input': 512, 'l2_input': 0.0014419220102218904, 'dropout_input': 0.31750703584596995, 'n_layers': 2, 'units_l0': 64, 'dropout_l0': 0.39285671485329315, 'units_l1': 256, 'dropout_l1': 0.26779400918216745, 'lr': 0.0005907176786602695}. Best is trial 5 with value: 0.9611901681759379.\n",
            "WARNING:absl:At this time, the v2.11+ optimizer `tf.keras.optimizers.Adam` runs slowly on M1/M2 Macs, please use the legacy Keras optimizer instead, located at `tf.keras.optimizers.legacy.Adam`.\n",
            "WARNING:absl:There is a known slowdown when using v2.11+ Keras optimizers on M1/M2 Macs. Falling back to the legacy Keras optimizer, i.e., `tf.keras.optimizers.legacy.Adam`.\n"
          ]
        },
        {
          "name": "stdout",
          "output_type": "stream",
          "text": [
            "25/25 [==============================] - 0s 5ms/step\n"
          ]
        },
        {
          "name": "stderr",
          "output_type": "stream",
          "text": [
            "[I 2025-07-30 10:45:32,509] Trial 9 finished with value: 0.9547218628719275 and parameters: {'units_input': 128, 'l2_input': 0.00040571440699961516, 'dropout_input': 0.3690372634827809, 'n_layers': 3, 'units_l0': 256, 'dropout_l0': 0.37107269533825504, 'units_l1': 256, 'dropout_l1': 0.3381745260682041, 'units_l2': 256, 'dropout_l2': 0.3879782458538342, 'lr': 5.693290852879642e-05}. Best is trial 5 with value: 0.9611901681759379.\n",
            "WARNING:absl:At this time, the v2.11+ optimizer `tf.keras.optimizers.Adam` runs slowly on M1/M2 Macs, please use the legacy Keras optimizer instead, located at `tf.keras.optimizers.legacy.Adam`.\n",
            "WARNING:absl:There is a known slowdown when using v2.11+ Keras optimizers on M1/M2 Macs. Falling back to the legacy Keras optimizer, i.e., `tf.keras.optimizers.legacy.Adam`.\n"
          ]
        },
        {
          "name": "stdout",
          "output_type": "stream",
          "text": [
            "25/25 [==============================] - 0s 6ms/step\n"
          ]
        },
        {
          "name": "stderr",
          "output_type": "stream",
          "text": [
            "[I 2025-07-30 10:48:11,367] Trial 10 finished with value: 0.9534282018111255 and parameters: {'units_input': 320, 'l2_input': 0.009825760593336117, 'dropout_input': 0.4807071782002792, 'n_layers': 3, 'units_l0': 256, 'dropout_l0': 0.4962530671749499, 'units_l1': 64, 'dropout_l1': 0.20608422526470557, 'units_l2': 64, 'dropout_l2': 0.4896138033398002, 'lr': 0.0002665478378028124}. Best is trial 5 with value: 0.9611901681759379.\n",
            "WARNING:absl:At this time, the v2.11+ optimizer `tf.keras.optimizers.Adam` runs slowly on M1/M2 Macs, please use the legacy Keras optimizer instead, located at `tf.keras.optimizers.legacy.Adam`.\n",
            "WARNING:absl:There is a known slowdown when using v2.11+ Keras optimizers on M1/M2 Macs. Falling back to the legacy Keras optimizer, i.e., `tf.keras.optimizers.legacy.Adam`.\n"
          ]
        },
        {
          "name": "stdout",
          "output_type": "stream",
          "text": [
            "25/25 [==============================] - 0s 4ms/step\n"
          ]
        },
        {
          "name": "stderr",
          "output_type": "stream",
          "text": [
            "[I 2025-07-30 10:49:45,723] Trial 11 finished with value: 0.9611901681759379 and parameters: {'units_input': 320, 'l2_input': 8.668293830160008e-05, 'dropout_input': 0.22052196373337862, 'n_layers': 1, 'units_l0': 64, 'dropout_l0': 0.21372970195503865, 'lr': 0.00018700861572825154}. Best is trial 5 with value: 0.9611901681759379.\n",
            "WARNING:absl:At this time, the v2.11+ optimizer `tf.keras.optimizers.Adam` runs slowly on M1/M2 Macs, please use the legacy Keras optimizer instead, located at `tf.keras.optimizers.legacy.Adam`.\n",
            "WARNING:absl:There is a known slowdown when using v2.11+ Keras optimizers on M1/M2 Macs. Falling back to the legacy Keras optimizer, i.e., `tf.keras.optimizers.legacy.Adam`.\n"
          ]
        },
        {
          "name": "stdout",
          "output_type": "stream",
          "text": [
            "25/25 [==============================] - 0s 4ms/step\n"
          ]
        },
        {
          "name": "stderr",
          "output_type": "stream",
          "text": [
            "[I 2025-07-30 10:51:17,782] Trial 12 finished with value: 0.9560155239327296 and parameters: {'units_input': 384, 'l2_input': 6.273514229987279e-05, 'dropout_input': 0.2603614231648471, 'n_layers': 1, 'units_l0': 64, 'dropout_l0': 0.20181442775871206, 'lr': 0.00016995436679372036}. Best is trial 5 with value: 0.9611901681759379.\n",
            "WARNING:absl:At this time, the v2.11+ optimizer `tf.keras.optimizers.Adam` runs slowly on M1/M2 Macs, please use the legacy Keras optimizer instead, located at `tf.keras.optimizers.legacy.Adam`.\n",
            "WARNING:absl:There is a known slowdown when using v2.11+ Keras optimizers on M1/M2 Macs. Falling back to the legacy Keras optimizer, i.e., `tf.keras.optimizers.legacy.Adam`.\n"
          ]
        },
        {
          "name": "stdout",
          "output_type": "stream",
          "text": [
            "25/25 [==============================] - 0s 4ms/step\n"
          ]
        },
        {
          "name": "stderr",
          "output_type": "stream",
          "text": [
            "[I 2025-07-30 10:52:51,258] Trial 13 finished with value: 0.9534282018111255 and parameters: {'units_input': 256, 'l2_input': 9.148521482115951e-05, 'dropout_input': 0.2080365538201819, 'n_layers': 1, 'units_l0': 192, 'dropout_l0': 0.4783632023210368, 'lr': 0.00029695277360386886}. Best is trial 5 with value: 0.9611901681759379.\n",
            "WARNING:absl:At this time, the v2.11+ optimizer `tf.keras.optimizers.Adam` runs slowly on M1/M2 Macs, please use the legacy Keras optimizer instead, located at `tf.keras.optimizers.legacy.Adam`.\n",
            "WARNING:absl:There is a known slowdown when using v2.11+ Keras optimizers on M1/M2 Macs. Falling back to the legacy Keras optimizer, i.e., `tf.keras.optimizers.legacy.Adam`.\n"
          ]
        },
        {
          "name": "stdout",
          "output_type": "stream",
          "text": [
            "25/25 [==============================] - 0s 5ms/step\n"
          ]
        },
        {
          "name": "stderr",
          "output_type": "stream",
          "text": [
            "[I 2025-07-30 10:55:04,954] Trial 14 finished with value: 0.9598965071151359 and parameters: {'units_input': 384, 'l2_input': 0.006473038331381165, 'dropout_input': 0.27565669233789797, 'n_layers': 2, 'units_l0': 64, 'dropout_l0': 0.4477316595196868, 'units_l1': 128, 'dropout_l1': 0.39308243699019807, 'lr': 3.292044122878483e-05}. Best is trial 5 with value: 0.9611901681759379.\n",
            "WARNING:absl:At this time, the v2.11+ optimizer `tf.keras.optimizers.Adam` runs slowly on M1/M2 Macs, please use the legacy Keras optimizer instead, located at `tf.keras.optimizers.legacy.Adam`.\n",
            "WARNING:absl:There is a known slowdown when using v2.11+ Keras optimizers on M1/M2 Macs. Falling back to the legacy Keras optimizer, i.e., `tf.keras.optimizers.legacy.Adam`.\n"
          ]
        },
        {
          "name": "stdout",
          "output_type": "stream",
          "text": [
            "25/25 [==============================] - 0s 5ms/step\n"
          ]
        },
        {
          "name": "stderr",
          "output_type": "stream",
          "text": [
            "[I 2025-07-30 10:56:43,237] Trial 15 finished with value: 0.963777490297542 and parameters: {'units_input': 384, 'l2_input': 0.00012089189281794095, 'dropout_input': 0.30814643472714676, 'n_layers': 1, 'units_l0': 192, 'dropout_l0': 0.20640202068681404, 'lr': 9.873159956295103e-05}. Best is trial 15 with value: 0.963777490297542.\n",
            "WARNING:absl:At this time, the v2.11+ optimizer `tf.keras.optimizers.Adam` runs slowly on M1/M2 Macs, please use the legacy Keras optimizer instead, located at `tf.keras.optimizers.legacy.Adam`.\n",
            "WARNING:absl:There is a known slowdown when using v2.11+ Keras optimizers on M1/M2 Macs. Falling back to the legacy Keras optimizer, i.e., `tf.keras.optimizers.legacy.Adam`.\n"
          ]
        },
        {
          "name": "stdout",
          "output_type": "stream",
          "text": [
            "25/25 [==============================] - 0s 7ms/step\n"
          ]
        },
        {
          "name": "stderr",
          "output_type": "stream",
          "text": [
            "[I 2025-07-30 10:59:35,794] Trial 16 finished with value: 0.9573091849935317 and parameters: {'units_input': 384, 'l2_input': 0.004146032158270269, 'dropout_input': 0.43562811792762574, 'n_layers': 3, 'units_l0': 256, 'dropout_l0': 0.32226456155540056, 'units_l1': 128, 'dropout_l1': 0.42910152156589776, 'units_l2': 256, 'dropout_l2': 0.21340593723091209, 'lr': 8.01440997457469e-05}. Best is trial 15 with value: 0.963777490297542.\n",
            "WARNING:absl:At this time, the v2.11+ optimizer `tf.keras.optimizers.Adam` runs slowly on M1/M2 Macs, please use the legacy Keras optimizer instead, located at `tf.keras.optimizers.legacy.Adam`.\n",
            "WARNING:absl:There is a known slowdown when using v2.11+ Keras optimizers on M1/M2 Macs. Falling back to the legacy Keras optimizer, i.e., `tf.keras.optimizers.legacy.Adam`.\n"
          ]
        },
        {
          "name": "stdout",
          "output_type": "stream",
          "text": [
            "25/25 [==============================] - 0s 5ms/step\n"
          ]
        },
        {
          "name": "stderr",
          "output_type": "stream",
          "text": [
            "[I 2025-07-30 11:01:51,828] Trial 17 finished with value: 0.9573091849935317 and parameters: {'units_input': 448, 'l2_input': 0.002803940796823519, 'dropout_input': 0.3156714104497754, 'n_layers': 2, 'units_l0': 192, 'dropout_l0': 0.2581774929376727, 'units_l1': 192, 'dropout_l1': 0.491810786965417, 'lr': 2.670969624046863e-05}. Best is trial 15 with value: 0.963777490297542.\n",
            "WARNING:absl:At this time, the v2.11+ optimizer `tf.keras.optimizers.Adam` runs slowly on M1/M2 Macs, please use the legacy Keras optimizer instead, located at `tf.keras.optimizers.legacy.Adam`.\n",
            "WARNING:absl:There is a known slowdown when using v2.11+ Keras optimizers on M1/M2 Macs. Falling back to the legacy Keras optimizer, i.e., `tf.keras.optimizers.legacy.Adam`.\n"
          ]
        },
        {
          "name": "stdout",
          "output_type": "stream",
          "text": [
            "25/25 [==============================] - 0s 4ms/step\n"
          ]
        },
        {
          "name": "stderr",
          "output_type": "stream",
          "text": [
            "[I 2025-07-30 11:04:07,346] Trial 18 finished with value: 0.9521345407503234 and parameters: {'units_input': 256, 'l2_input': 3.7234401173666664e-05, 'dropout_input': 0.3174078256719019, 'n_layers': 2, 'units_l0': 256, 'dropout_l0': 0.3284954041900381, 'units_l1': 256, 'dropout_l1': 0.3226069296122303, 'lr': 1.008356456031962e-05}. Best is trial 15 with value: 0.963777490297542.\n",
            "WARNING:absl:At this time, the v2.11+ optimizer `tf.keras.optimizers.Adam` runs slowly on M1/M2 Macs, please use the legacy Keras optimizer instead, located at `tf.keras.optimizers.legacy.Adam`.\n",
            "WARNING:absl:There is a known slowdown when using v2.11+ Keras optimizers on M1/M2 Macs. Falling back to the legacy Keras optimizer, i.e., `tf.keras.optimizers.legacy.Adam`.\n"
          ]
        },
        {
          "name": "stdout",
          "output_type": "stream",
          "text": [
            "25/25 [==============================] - 0s 4ms/step\n"
          ]
        },
        {
          "name": "stderr",
          "output_type": "stream",
          "text": [
            "[I 2025-07-30 11:05:44,882] Trial 19 finished with value: 0.9611901681759379 and parameters: {'units_input': 384, 'l2_input': 0.0001580553601275497, 'dropout_input': 0.24903026232820424, 'n_layers': 1, 'units_l0': 192, 'dropout_l0': 0.4496306856332662, 'lr': 4.285435805773056e-05}. Best is trial 15 with value: 0.963777490297542.\n"
          ]
        },
        {
          "name": "stdout",
          "output_type": "stream",
          "text": [
            "Best Hyperparameters:\n",
            "{'units_input': 384, 'l2_input': 0.00012089189281794095, 'dropout_input': 0.30814643472714676, 'n_layers': 1, 'units_l0': 192, 'dropout_l0': 0.20640202068681404, 'lr': 9.873159956295103e-05}\n",
            "Best Validation Accuracy: 0.9638\n"
          ]
        }
      ],
      "source": [
        "import optuna\n",
        "from tensorflow.keras.models import Sequential\n",
        "from tensorflow.keras.layers import Dense, Dropout, BatchNormalization\n",
        "from tensorflow.keras.callbacks import EarlyStopping\n",
        "from tensorflow.keras.regularizers import l2\n",
        "from tensorflow.keras.optimizers import Adam\n",
        "from sklearn.metrics import accuracy_score\n",
        "\n",
        "def create_model(trial):\n",
        "    model = Sequential()\n",
        "\n",
        "    # Input Layer\n",
        "    model.add(Dense(\n",
        "        trial.suggest_int('units_input', 128, 512, step=64),\n",
        "        activation='relu',\n",
        "        kernel_regularizer=l2(trial.suggest_float('l2_input', 1e-5, 1e-2, log=True)),\n",
        "        input_shape=(X_train.shape[1],)\n",
        "    ))\n",
        "    model.add(BatchNormalization())\n",
        "    model.add(Dropout(trial.suggest_float('dropout_input', 0.2, 0.5)))\n",
        "\n",
        "    # Hidden Layers\n",
        "    for i in range(trial.suggest_int('n_layers', 1, 3)):\n",
        "        units = trial.suggest_int(f'units_l{i}', 64, 256, step=64)\n",
        "        model.add(Dense(units, activation='relu', kernel_regularizer=l2(1e-3)))\n",
        "        model.add(BatchNormalization())\n",
        "        model.add(Dropout(trial.suggest_float(f'dropout_l{i}', 0.2, 0.5)))\n",
        "\n",
        "    # Output Layer\n",
        "    model.add(Dense(1, activation='sigmoid'))\n",
        "\n",
        "    model.compile(\n",
        "        optimizer=Adam(learning_rate=trial.suggest_float('lr', 1e-5, 1e-3, log=True)),\n",
        "        loss='binary_crossentropy',\n",
        "        metrics=['accuracy']\n",
        "    )\n",
        "    return model\n",
        "\n",
        "def objective(trial):\n",
        "    model = create_model(trial)\n",
        "    early_stop = EarlyStopping(monitor='val_loss', patience=3, restore_best_weights=True)\n",
        "\n",
        "    model.fit(\n",
        "        X_train, y_train,\n",
        "        validation_data=(X_val, y_val),  \n",
        "        epochs=25,\n",
        "        batch_size=32,\n",
        "        callbacks=[early_stop],\n",
        "        verbose=0\n",
        "    )\n",
        "\n",
        "    # Evaluate on validation set\n",
        "    y_val_pred = (model.predict(X_val) > 0.5).astype(int)\n",
        "    return accuracy_score(y_val, y_val_pred)\n",
        "\n",
        "# Run Optuna\n",
        "study = optuna.create_study(direction='maximize')\n",
        "study.optimize(objective, n_trials=20)\n",
        "\n",
        "# Print best results\n",
        "print(\"Best Hyperparameters:\")\n",
        "print(study.best_params)\n",
        "print(f\"Best Validation Accuracy: {study.best_value:.4f}\")\n"
      ]
    },
    {
      "cell_type": "code",
      "execution_count": 32,
      "id": "86e8fb22",
      "metadata": {},
      "outputs": [
        {
          "name": "stderr",
          "output_type": "stream",
          "text": [
            "WARNING:absl:At this time, the v2.11+ optimizer `tf.keras.optimizers.Adam` runs slowly on M1/M2 Macs, please use the legacy Keras optimizer instead, located at `tf.keras.optimizers.legacy.Adam`.\n",
            "WARNING:absl:There is a known slowdown when using v2.11+ Keras optimizers on M1/M2 Macs. Falling back to the legacy Keras optimizer, i.e., `tf.keras.optimizers.legacy.Adam`.\n"
          ]
        },
        {
          "name": "stdout",
          "output_type": "stream",
          "text": [
            "Epoch 1/25\n",
            "194/194 [==============================] - 7s 27ms/step - loss: 0.5416 - accuracy: 0.9007 - val_loss: 0.7055 - val_accuracy: 0.9521\n",
            "Epoch 2/25\n",
            "194/194 [==============================] - 4s 21ms/step - loss: 0.4516 - accuracy: 0.9408 - val_loss: 0.4822 - val_accuracy: 0.9573\n",
            "Epoch 3/25\n",
            "194/194 [==============================] - 4s 21ms/step - loss: 0.4188 - accuracy: 0.9513 - val_loss: 0.3858 - val_accuracy: 0.9560\n",
            "Epoch 4/25\n",
            "194/194 [==============================] - 4s 21ms/step - loss: 0.4069 - accuracy: 0.9489 - val_loss: 0.3648 - val_accuracy: 0.9573\n",
            "Epoch 5/25\n",
            "194/194 [==============================] - 4s 21ms/step - loss: 0.3881 - accuracy: 0.9541 - val_loss: 0.3491 - val_accuracy: 0.9599\n",
            "Epoch 6/25\n",
            "194/194 [==============================] - 4s 21ms/step - loss: 0.3720 - accuracy: 0.9580 - val_loss: 0.3419 - val_accuracy: 0.9573\n",
            "Epoch 7/25\n",
            "194/194 [==============================] - 4s 21ms/step - loss: 0.3609 - accuracy: 0.9571 - val_loss: 0.3291 - val_accuracy: 0.9612\n",
            "Epoch 8/25\n",
            "194/194 [==============================] - 4s 21ms/step - loss: 0.3453 - accuracy: 0.9599 - val_loss: 0.3178 - val_accuracy: 0.9625\n",
            "Epoch 9/25\n",
            "194/194 [==============================] - 4s 21ms/step - loss: 0.3478 - accuracy: 0.9567 - val_loss: 0.3137 - val_accuracy: 0.9599\n",
            "Epoch 10/25\n",
            "194/194 [==============================] - 4s 21ms/step - loss: 0.3278 - accuracy: 0.9581 - val_loss: 0.3033 - val_accuracy: 0.9612\n",
            "Epoch 11/25\n",
            "194/194 [==============================] - 4s 21ms/step - loss: 0.3195 - accuracy: 0.9636 - val_loss: 0.2967 - val_accuracy: 0.9599\n",
            "Epoch 12/25\n",
            "194/194 [==============================] - 4s 21ms/step - loss: 0.3187 - accuracy: 0.9580 - val_loss: 0.2935 - val_accuracy: 0.9599\n",
            "Epoch 13/25\n",
            "194/194 [==============================] - 4s 21ms/step - loss: 0.3057 - accuracy: 0.9620 - val_loss: 0.2822 - val_accuracy: 0.9638\n",
            "Epoch 14/25\n",
            "194/194 [==============================] - 4s 21ms/step - loss: 0.3023 - accuracy: 0.9609 - val_loss: 0.2793 - val_accuracy: 0.9638\n",
            "Epoch 15/25\n",
            "194/194 [==============================] - 4s 21ms/step - loss: 0.2954 - accuracy: 0.9614 - val_loss: 0.2745 - val_accuracy: 0.9599\n",
            "Epoch 16/25\n",
            "194/194 [==============================] - 4s 21ms/step - loss: 0.2879 - accuracy: 0.9578 - val_loss: 0.2706 - val_accuracy: 0.9612\n",
            "Epoch 17/25\n",
            "194/194 [==============================] - 4s 21ms/step - loss: 0.2800 - accuracy: 0.9623 - val_loss: 0.2615 - val_accuracy: 0.9625\n",
            "Epoch 18/25\n",
            "194/194 [==============================] - 4s 21ms/step - loss: 0.2808 - accuracy: 0.9610 - val_loss: 0.2570 - val_accuracy: 0.9612\n",
            "Epoch 19/25\n",
            "194/194 [==============================] - 4s 21ms/step - loss: 0.2685 - accuracy: 0.9609 - val_loss: 0.2552 - val_accuracy: 0.9599\n",
            "Epoch 20/25\n",
            "194/194 [==============================] - 4s 21ms/step - loss: 0.2705 - accuracy: 0.9615 - val_loss: 0.2491 - val_accuracy: 0.9612\n",
            "Epoch 21/25\n",
            "194/194 [==============================] - 4s 21ms/step - loss: 0.2622 - accuracy: 0.9612 - val_loss: 0.2471 - val_accuracy: 0.9625\n",
            "Epoch 22/25\n",
            "194/194 [==============================] - 4s 21ms/step - loss: 0.2565 - accuracy: 0.9644 - val_loss: 0.2407 - val_accuracy: 0.9625\n",
            "Epoch 23/25\n",
            "194/194 [==============================] - 4s 21ms/step - loss: 0.2472 - accuracy: 0.9651 - val_loss: 0.2366 - val_accuracy: 0.9612\n",
            "Epoch 24/25\n",
            "194/194 [==============================] - 4s 21ms/step - loss: 0.2505 - accuracy: 0.9654 - val_loss: 0.2313 - val_accuracy: 0.9625\n",
            "Epoch 25/25\n",
            "194/194 [==============================] - 4s 21ms/step - loss: 0.2509 - accuracy: 0.9609 - val_loss: 0.2288 - val_accuracy: 0.9612\n",
            "Model saved as 'depression_sbert_optuna_model.keras'\n"
          ]
        }
      ],
      "source": [
        "# Save Optuna best model\n",
        "best_trial = study.best_trial\n",
        "model = Sequential()\n",
        "\n",
        "# Input Layer\n",
        "model.add(Dense(\n",
        "    best_trial.params['units_input'],\n",
        "    activation='relu',\n",
        "    kernel_regularizer=l2(best_trial.params['l2_input']),\n",
        "    input_shape=(X_train.shape[1],)\n",
        "))\n",
        "model.add(BatchNormalization())\n",
        "model.add(Dropout(best_trial.params['dropout_input']))\n",
        "\n",
        "# Hidden Layers\n",
        "for i in range(best_trial.params['n_layers']):\n",
        "    model.add(Dense(\n",
        "        best_trial.params[f'units_l{i}'],\n",
        "        activation='relu',\n",
        "        kernel_regularizer=l2(1e-3)\n",
        "    ))\n",
        "    model.add(BatchNormalization())\n",
        "    model.add(Dropout(best_trial.params[f'dropout_l{i}']))\n",
        "\n",
        "# Output Layer\n",
        "model.add(Dense(1, activation='sigmoid'))\n",
        "\n",
        "model.compile(\n",
        "    optimizer=Adam(learning_rate=best_trial.params['lr']),\n",
        "    loss='binary_crossentropy',\n",
        "    metrics=['accuracy']\n",
        ")\n",
        "\n",
        "# Fit on full training data\n",
        "early_stop = EarlyStopping(monitor='val_loss', patience=3, restore_best_weights=True)\n",
        "model.fit(X_train, y_train, validation_data=(X_val, y_val), epochs=25, batch_size=32, callbacks=[early_stop], verbose=1)\n",
        "\n",
        "# Save final model\n",
        "model.save(\"depression_sbert_optuna_model.keras\")\n",
        "print(\"Model saved as 'depression_sbert_optuna_model.keras'\")"
      ]
    },
    {
      "cell_type": "code",
      "execution_count": 33,
      "id": "8dd2d52b",
      "metadata": {},
      "outputs": [
        {
          "name": "stdout",
          "output_type": "stream",
          "text": [
            "25/25 [==============================] - 0s 8ms/step\n",
            "25/25 [==============================] - 0s 4ms/step\n",
            "\n",
            "Model Performance Comparison:\n",
            "\n",
            "                     Accuracy  Precision  Recall  F1 Score  ROC AUC\n",
            "Before Tuning          0.9651     0.9735  0.9557    0.9645   0.9650\n",
            "After Optuna Tuning    0.9651     0.9710  0.9583    0.9646   0.9651\n",
            "\n",
            "Saved as 'model_performance_comparison.csv'\n"
          ]
        },
        {
          "data": {
            "image/png": "[encoded data removed]",
            "text/plain": [
              "<Figure size 1000x600 with 1 Axes>"
            ]
          },
          "metadata": {},
          "output_type": "display_data"
        },
        {
          "data": {
            "image/png": "[encoded data removed]",
            "text/plain": [
              "<Figure size 1200x500 with 4 Axes>"
            ]
          },
          "metadata": {},
          "output_type": "display_data"
        },
        {
          "name": "stdout",
          "output_type": "stream",
          "text": [
            "194/194 [==============================] - 1s 3ms/step\n",
            "25/25 [==============================] - 0s 4ms/step\n",
            "194/194 [==============================] - 0s 2ms/step\n",
            "25/25 [==============================] - 0s 3ms/step\n"
          ]
        },
        {
          "data": {
            "image/png": "[encoded data removed]",
            "text/plain": [
              "<Figure size 800x600 with 1 Axes>"
            ]
          },
          "metadata": {},
          "output_type": "display_data"
        }
      ],
      "source": [
        "from tensorflow.keras.models import load_model\n",
        "from sklearn.metrics import accuracy_score, precision_score, recall_score, f1_score, roc_auc_score, confusion_matrix\n",
        "import pandas as pd\n",
        "import matplotlib.pyplot as plt\n",
        "import seaborn as sns\n",
        "import numpy as np\n",
        "\n",
        "# Load models\n",
        "baseline_model = load_model(\"depression_sbert_model.keras\")\n",
        "optuna_model = load_model(\"depression_sbert_optuna_model.keras\")\n",
        "\n",
        "# Predict on datasets\n",
        "y_pred_baseline = (baseline_model.predict(X_test) > 0.5).astype(int)\n",
        "y_pred_optuna = (optuna_model.predict(X_test) > 0.5).astype(int)\n",
        "\n",
        "# Define function to compute all metrics\n",
        "def get_metrics(y_true, y_pred):\n",
        "    return {\n",
        "        'Accuracy': round(accuracy_score(y_true, y_pred), 4),\n",
        "        'Precision': round(precision_score(y_true, y_pred), 4),\n",
        "        'Recall': round(recall_score(y_true, y_pred), 4),\n",
        "        'F1 Score': round(f1_score(y_true, y_pred), 4),\n",
        "        'ROC AUC': round(roc_auc_score(y_true, y_pred), 4)\n",
        "    }\n",
        "\n",
        "# Compute metrics\n",
        "baseline_metrics = get_metrics(y_test, y_pred_baseline)\n",
        "optuna_metrics = get_metrics(y_test, y_pred_optuna)\n",
        "\n",
        "# Create comparison table\n",
        "comparison_df = pd.DataFrame(\n",
        "    [baseline_metrics, optuna_metrics],\n",
        "    index=[\"Before Tuning\", \"After Optuna Tuning\"]\n",
        ")\n",
        "\n",
        "# Print and save metrics\n",
        "print(\"\\nModel Performance Comparison:\\n\")\n",
        "print(comparison_df)\n",
        "comparison_df.to_csv(\"model_performance_comparison.csv\")\n",
        "print(\"\\nSaved as 'model_performance_comparison.csv'\")\n",
        "\n",
        "# --- Bar Chart of Metrics ---\n",
        "comparison_df.plot(kind='bar', figsize=(10, 6))\n",
        "plt.title(\"Model Performance Comparison\")\n",
        "plt.ylabel(\"Score\")\n",
        "plt.ylim(0, 1)\n",
        "plt.xticks(rotation=0)\n",
        "plt.grid(True)\n",
        "plt.tight_layout()\n",
        "plt.show()\n",
        "\n",
        "# --- Confusion Matrices ---\n",
        "cm_baseline = confusion_matrix(y_test, y_pred_baseline)\n",
        "cm_optuna = confusion_matrix(y_test, y_pred_optuna)\n",
        "\n",
        "fig, axes = plt.subplots(1, 2, figsize=(12, 5))\n",
        "sns.heatmap(cm_baseline, annot=True, fmt='d', cmap='Blues', ax=axes[0])\n",
        "axes[0].set_title(\"Confusion Matrix - Before Tuning\")\n",
        "axes[0].set_xlabel(\"Predicted\")\n",
        "axes[0].set_ylabel(\"Actual\")\n",
        "\n",
        "sns.heatmap(cm_optuna, annot=True, fmt='d', cmap='Greens', ax=axes[1])\n",
        "axes[1].set_title(\"Confusion Matrix - After Optuna Tuning\")\n",
        "axes[1].set_xlabel(\"Predicted\")\n",
        "axes[1].set_ylabel(\"Actual\")\n",
        "\n",
        "plt.tight_layout()\n",
        "plt.show()\n",
        "\n",
        "# --- Accuracy on Train/Val/Test ---\n",
        "train_acc_before = accuracy_score(y_train, (baseline_model.predict(X_train) > 0.5).astype(int))\n",
        "val_acc_before = accuracy_score(y_val, (baseline_model.predict(X_val) > 0.5).astype(int))\n",
        "test_acc_before = accuracy_score(y_test, y_pred_baseline)\n",
        "\n",
        "train_acc_after = accuracy_score(y_train, (optuna_model.predict(X_train) > 0.5).astype(int))\n",
        "val_acc_after = accuracy_score(y_val, (optuna_model.predict(X_val) > 0.5).astype(int))\n",
        "test_acc_after = accuracy_score(y_test, y_pred_optuna)\n",
        "\n",
        "perf_data = {\n",
        "    \"Dataset\": [\"Train\", \"Validation\", \"Test\"],\n",
        "    \"Before Tuning\": [train_acc_before, val_acc_before, test_acc_before],\n",
        "    \"After Optuna Tuning\": [train_acc_after, val_acc_after, test_acc_after]\n",
        "}\n",
        "\n",
        "perf_df = pd.DataFrame(perf_data)\n",
        "perf_melted = perf_df.melt(id_vars=\"Dataset\", var_name=\"Model\", value_name=\"Accuracy\")\n",
        "\n",
        "plt.figure(figsize=(8, 6))\n",
        "sns.barplot(data=perf_melted, x=\"Dataset\", y=\"Accuracy\", hue=\"Model\")\n",
        "plt.title(\"Accuracy on Train, Validation, and Test Sets\")\n",
        "plt.ylim(0, 1)\n",
        "plt.grid(axis='y')\n",
        "plt.tight_layout()\n",
        "plt.show()\n"
      ]
    },
    {
      "cell_type": "code",
      "execution_count": null,
      "id": "1gHaxOal_emQ",
      "metadata": {
        "colab": {
          "base_uri": "https://localhost:8080/",
          "height": 795
        },
        "id": "1gHaxOal_emQ",
        "outputId": "158a8c99-e386-415f-b009-5e7b95410df9"
      },
      "outputs": [
        {
          "name": "stdout",
          "output_type": "stream",
          "text": [
            "\n",
            "==== Real-time Depression Prediction ====\n",
            "Type a sentence to analyze or type 'exit' to quit.\n",
            "\n"
          ]
        },
        {
          "name": "stderr",
          "output_type": "stream",
          "text": [
            "/Library/Frameworks/Python.framework/Versions/3.10/lib/python3.10/site-packages/torch/nn/modules/module.py:1762: FutureWarning: `encoder_attention_mask` is deprecated and will be removed in version 4.55.0 for `BertSdpaSelfAttention.forward`.\n",
            "  return forward_call(*args, **kwargs)\n"
          ]
        },
        {
          "name": "stdout",
          "output_type": "stream",
          "text": [
            "1/1 [==============================] - 0s 407ms/step\n",
            "\n",
            "Input: I don’t see the point of anything anymore. I just want to sleep and not wake up.\n",
            "Prediction: Depressed (Confidence: 97.97%)\n",
            "\n",
            "1/1 [==============================] - 0s 95ms/step\n",
            "\n",
            "Input: I’m really excited about my new job — can’t wait to start next week!\n",
            "Prediction: Not Depressed (Confidence: 98.93%)\n",
            "\n",
            "1/1 [==============================] - 0s 42ms/step\n",
            "\n",
            "Input: Even when I’m surrounded by people, I feel completely alone and numb.\n",
            "Prediction: Depressed (Confidence: 99.68%)\n",
            "\n",
            "1/1 [==============================] - 0s 35ms/step\n",
            "\n",
            "Input: Had a great time catching up with old friends over dinner.\n",
            "Prediction: Not Depressed (Confidence: 99.51%)\n",
            "\n",
            "1/1 [==============================] - 0s 20ms/step\n",
            "\n",
            "Input: It’s getting harder to get out of bed every day. I have no motivation or energy left\n",
            "Prediction: Not Depressed (Confidence: 68.64%)\n",
            "\n",
            "1/1 [==============================] - 0s 51ms/step\n",
            "\n",
            "Input: Just finished a long workout and I feel amazing. Ready to tackle the day!\n",
            "Prediction: Not Depressed (Confidence: 91.68%)\n",
            "\n",
            "Please enter some text.\n",
            "\n"
          ]
        }
      ],
      "source": [
        "import numpy as np\n",
        "from tensorflow.keras.models import load_model\n",
        "\n",
        "# Load Optuna-tuned model\n",
        "model = load_model(\"depression_sbert_optuna_model.keras\")\n",
        "\n",
        "print(\"\\n==== Real-time Depression Prediction ====\")\n",
        "print(\"Type a sentence to analyze or type 'exit' to quit.\\n\")\n",
        "\n",
        "while True:\n",
        "    user_input = input(\"Post: \").strip()\n",
        "    if user_input.lower() == 'exit':\n",
        "        print(\"Exiting prediction mode.\")\n",
        "        break\n",
        "    if not user_input:\n",
        "        print(\"Please enter some text.\\n\")\n",
        "        continue\n",
        "\n",
        "    # Preprocess and encode using SBERT\n",
        "    cleaned = clean_text(user_input)\n",
        "    embedding = sbert_model.encode([cleaned])  \n",
        "\n",
        "    # Predict\n",
        "    prediction = model.predict(np.array(embedding))\n",
        "    prob = prediction[0][0]\n",
        "    label = \"Depressed\" if prob > 0.5 else \"Not Depressed\"\n",
        "    confidence = round(prob * 100 if label == \"Depressed\" else (1 - prob) * 100, 2)\n",
        "\n",
        "    # Output with original input\n",
        "    print(\"\\nInput:\", user_input)\n",
        "    print(f\"Prediction: {label} (Confidence: {confidence}%)\\n\")\n"
      ]
    }
  ],
  "metadata": {
    "colab": {
      "provenance": []
    },
    "kernelspec": {
      "display_name": "Python 3",
      "language": "python",
      "name": "python3"
    },
    "language_info": {
      "codemirror_mode": {
        "name": "ipython",
        "version": 3
      },
      "file_extension": ".py",
      "mimetype": "text/x-python",
      "name": "python",
      "nbconvert_exporter": "python",
      "pygments_lexer": "ipython3",
      "version": "3.10.8"
    },
    "widgets": {
      "application/vnd.jupyter.widget-state+json": {
        "2e473d4dd96f4cb0b23c51aef9d7747c": {
          "model_module": "@jupyter-widgets/base",
          "model_module_version": "1.2.0",
          "model_name": "LayoutModel",
          "state": {
            "_model_module": "@jupyter-widgets/base",
            "_model_module_version": "1.2.0",
            "_model_name": "LayoutModel",
            "_view_count": null,
            "_view_module": "@jupyter-widgets/base",
            "_view_module_version": "1.2.0",
            "_view_name": "LayoutView",
            "align_content": null,
            "align_items": null,
            "align_self": null,
            "border": null,
            "bottom": null,
            "display": null,
            "flex": null,
            "flex_flow": null,
            "grid_area": null,
            "grid_auto_columns": null,
            "grid_auto_flow": null,
            "grid_auto_rows": null,
            "grid_column": null,
            "grid_gap": null,
            "grid_row": null,
            "grid_template_areas": null,
            "grid_template_columns": null,
            "grid_template_rows": null,
            "height": null,
            "justify_content": null,
            "justify_items": null,
            "left": null,
            "margin": null,
            "max_height": null,
            "max_width": null,
            "min_height": null,
            "min_width": null,
            "object_fit": null,
            "object_position": null,
            "order": null,
            "overflow": null,
            "overflow_x": null,
            "overflow_y": null,
            "padding": null,
            "right": null,
            "top": null,
            "visibility": null,
            "width": null
          }
        },
        "3d29fb061d054157ac8588cf0c8ab3b7": {
          "model_module": "@jupyter-widgets/base",
          "model_module_version": "1.2.0",
          "model_name": "LayoutModel",
          "state": {
            "_model_module": "@jupyter-widgets/base",
            "_model_module_version": "1.2.0",
            "_model_name": "LayoutModel",
            "_view_count": null,
            "_view_module": "@jupyter-widgets/base",
            "_view_module_version": "1.2.0",
            "_view_name": "LayoutView",
            "align_content": null,
            "align_items": null,
            "align_self": null,
            "border": null,
            "bottom": null,
            "display": null,
            "flex": null,
            "flex_flow": null,
            "grid_area": null,
            "grid_auto_columns": null,
            "grid_auto_flow": null,
            "grid_auto_rows": null,
            "grid_column": null,
            "grid_gap": null,
            "grid_row": null,
            "grid_template_areas": null,
            "grid_template_columns": null,
            "grid_template_rows": null,
            "height": null,
            "justify_content": null,
            "justify_items": null,
            "left": null,
            "margin": null,
            "max_height": null,
            "max_width": null,
            "min_height": null,
            "min_width": null,
            "object_fit": null,
            "object_position": null,
            "order": null,
            "overflow": null,
            "overflow_x": null,
            "overflow_y": null,
            "padding": null,
            "right": null,
            "top": null,
            "visibility": null,
            "width": null
          }
        },
        "44fc7f36e50a4b56aca785a8f1019d08": {
          "model_module": "@jupyter-widgets/controls",
          "model_module_version": "1.5.0",
          "model_name": "DescriptionStyleModel",
          "state": {
            "_model_module": "@jupyter-widgets/controls",
            "_model_module_version": "1.5.0",
            "_model_name": "DescriptionStyleModel",
            "_view_count": null,
            "_view_module": "@jupyter-widgets/base",
            "_view_module_version": "1.2.0",
            "_view_name": "StyleView",
            "description_width": ""
          }
        },
        "58d2c724df8b422482504969fd51a5a1": {
          "model_module": "@jupyter-widgets/controls",
          "model_module_version": "1.5.0",
          "model_name": "HTMLModel",
          "state": {
            "_dom_classes": [],
            "_model_module": "@jupyter-widgets/controls",
            "_model_module_version": "1.5.0",
            "_model_name": "HTMLModel",
            "_view_count": null,
            "_view_module": "@jupyter-widgets/controls",
            "_view_module_version": "1.5.0",
            "_view_name": "HTMLView",
            "description": "",
            "description_tooltip": null,
            "layout": "IPY_MODEL_93deacafa8b64fc8bc9182bba224f7e1",
            "placeholder": "​",
            "style": "IPY_MODEL_44fc7f36e50a4b56aca785a8f1019d08",
            "value": " 242/242 [04:18&lt;00:00,  8.50it/s]"
          }
        },
        "87efaa020be046a49257b9adba07d8ef": {
          "model_module": "@jupyter-widgets/controls",
          "model_module_version": "1.5.0",
          "model_name": "HBoxModel",
          "state": {
            "_dom_classes": [],
            "_model_module": "@jupyter-widgets/controls",
            "_model_module_version": "1.5.0",
            "_model_name": "HBoxModel",
            "_view_count": null,
            "_view_module": "@jupyter-widgets/controls",
            "_view_module_version": "1.5.0",
            "_view_name": "HBoxView",
            "box_style": "",
            "children": [
              "IPY_MODEL_f3bb7067eced4fd2ba7bae868e52d598",
              "IPY_MODEL_f2b8f7b4e4414550966436cebaebc0e9",
              "IPY_MODEL_58d2c724df8b422482504969fd51a5a1"
            ],
            "layout": "IPY_MODEL_3d29fb061d054157ac8588cf0c8ab3b7"
          }
        },
        "93deacafa8b64fc8bc9182bba224f7e1": {
          "model_module": "@jupyter-widgets/base",
          "model_module_version": "1.2.0",
          "model_name": "LayoutModel",
          "state": {
            "_model_module": "@jupyter-widgets/base",
            "_model_module_version": "1.2.0",
            "_model_name": "LayoutModel",
            "_view_count": null,
            "_view_module": "@jupyter-widgets/base",
            "_view_module_version": "1.2.0",
            "_view_name": "LayoutView",
            "align_content": null,
            "align_items": null,
            "align_self": null,
            "border": null,
            "bottom": null,
            "display": null,
            "flex": null,
            "flex_flow": null,
            "grid_area": null,
            "grid_auto_columns": null,
            "grid_auto_flow": null,
            "grid_auto_rows": null,
            "grid_column": null,
            "grid_gap": null,
            "grid_row": null,
            "grid_template_areas": null,
            "grid_template_columns": null,
            "grid_template_rows": null,
            "height": null,
            "justify_content": null,
            "justify_items": null,
            "left": null,
            "margin": null,
            "max_height": null,
            "max_width": null,
            "min_height": null,
            "min_width": null,
            "object_fit": null,
            "object_position": null,
            "order": null,
            "overflow": null,
            "overflow_x": null,
            "overflow_y": null,
            "padding": null,
            "right": null,
            "top": null,
            "visibility": null,
            "width": null
          }
        },
        "a3193ccbbb3f4b63a822804c1e05f95f": {
          "model_module": "@jupyter-widgets/controls",
          "model_module_version": "1.5.0",
          "model_name": "ProgressStyleModel",
          "state": {
            "_model_module": "@jupyter-widgets/controls",
            "_model_module_version": "1.5.0",
            "_model_name": "ProgressStyleModel",
            "_view_count": null,
            "_view_module": "@jupyter-widgets/base",
            "_view_module_version": "1.2.0",
            "_view_name": "StyleView",
            "bar_color": null,
            "description_width": ""
          }
        },
        "a340c0cc1baf4c49b7531cc3a2e35e0a": {
          "model_module": "@jupyter-widgets/base",
          "model_module_version": "1.2.0",
          "model_name": "LayoutModel",
          "state": {
            "_model_module": "@jupyter-widgets/base",
            "_model_module_version": "1.2.0",
            "_model_name": "LayoutModel",
            "_view_count": null,
            "_view_module": "@jupyter-widgets/base",
            "_view_module_version": "1.2.0",
            "_view_name": "LayoutView",
            "align_content": null,
            "align_items": null,
            "align_self": null,
            "border": null,
            "bottom": null,
            "display": null,
            "flex": null,
            "flex_flow": null,
            "grid_area": null,
            "grid_auto_columns": null,
            "grid_auto_flow": null,
            "grid_auto_rows": null,
            "grid_column": null,
            "grid_gap": null,
            "grid_row": null,
            "grid_template_areas": null,
            "grid_template_columns": null,
            "grid_template_rows": null,
            "height": null,
            "justify_content": null,
            "justify_items": null,
            "left": null,
            "margin": null,
            "max_height": null,
            "max_width": null,
            "min_height": null,
            "min_width": null,
            "object_fit": null,
            "object_position": null,
            "order": null,
            "overflow": null,
            "overflow_x": null,
            "overflow_y": null,
            "padding": null,
            "right": null,
            "top": null,
            "visibility": null,
            "width": null
          }
        },
        "f2b8f7b4e4414550966436cebaebc0e9": {
          "model_module": "@jupyter-widgets/controls",
          "model_module_version": "1.5.0",
          "model_name": "FloatProgressModel",
          "state": {
            "_dom_classes": [],
            "_model_module": "@jupyter-widgets/controls",
            "_model_module_version": "1.5.0",
            "_model_name": "FloatProgressModel",
            "_view_count": null,
            "_view_module": "@jupyter-widgets/controls",
            "_view_module_version": "1.5.0",
            "_view_name": "ProgressView",
            "bar_style": "success",
            "description": "",
            "description_tooltip": null,
            "layout": "IPY_MODEL_a340c0cc1baf4c49b7531cc3a2e35e0a",
            "max": 242,
            "min": 0,
            "orientation": "horizontal",
            "style": "IPY_MODEL_a3193ccbbb3f4b63a822804c1e05f95f",
            "value": 242
          }
        },
        "f3bb7067eced4fd2ba7bae868e52d598": {
          "model_module": "@jupyter-widgets/controls",
          "model_module_version": "1.5.0",
          "model_name": "HTMLModel",
          "state": {
            "_dom_classes": [],
            "_model_module": "@jupyter-widgets/controls",
            "_model_module_version": "1.5.0",
            "_model_name": "HTMLModel",
            "_view_count": null,
            "_view_module": "@jupyter-widgets/controls",
            "_view_module_version": "1.5.0",
            "_view_name": "HTMLView",
            "description": "",
            "description_tooltip": null,
            "layout": "IPY_MODEL_2e473d4dd96f4cb0b23c51aef9d7747c",
            "placeholder": "​",
            "style": "IPY_MODEL_f878fb1ae18a418fb817abeba33d2e10",
            "value": "Batches: 100%"
          }
        },
        "f878fb1ae18a418fb817abeba33d2e10": {
          "model_module": "@jupyter-widgets/controls",
          "model_module_version": "1.5.0",
          "model_name": "DescriptionStyleModel",
          "state": {
            "_model_module": "@jupyter-widgets/controls",
            "_model_module_version": "1.5.0",
            "_model_name": "DescriptionStyleModel",
            "_view_count": null,
            "_view_module": "@jupyter-widgets/base",
            "_view_module_version": "1.2.0",
            "_view_name": "StyleView",
            "description_width": ""
          }
        }
      }
    }
  },
  "nbformat": 4,
  "nbformat_minor": 5
}
